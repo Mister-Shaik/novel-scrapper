{
 "cells": [
  {
   "cell_type": "code",
   "execution_count": 177,
   "metadata": {},
   "outputs": [],
   "source": [
    "from bs4 import BeautifulSoup as bs, SoupStrainer\n",
    "import requests\n",
    "import sys\n",
    "import json"
   ]
  },
  {
   "cell_type": "code",
   "execution_count": 178,
   "metadata": {},
   "outputs": [],
   "source": [
    "page = requests.get(sys.argv[1])\n",
    "soup = bs(page.content, 'html.parser')"
   ]
  },
  {
   "cell_type": "code",
   "execution_count": 180,
   "metadata": {},
   "outputs": [],
   "source": [
    "ulit = soup.find_all('li', class_='wp-manga-chapter')\n",
    "arr = []"
   ]
  },
  {
   "cell_type": "code",
   "execution_count": 181,
   "metadata": {},
   "outputs": [],
   "source": [
    "for x in ulit:\n",
    "    arr.extend([y.get_attribute_list('href') for y in x.find_all('a')][0])"
   ]
  },
  {
   "cell_type": "code",
   "execution_count": 182,
   "metadata": {},
   "outputs": [],
   "source": [
    "arr.reverse()\n",
    "tot = []\n",
    "titles = []"
   ]
  },
  {
   "cell_type": "code",
   "execution_count": 186,
   "metadata": {},
   "outputs": [],
   "source": [
    "for c in arr:\n",
    "    chap = requests.get(c)\n",
    "    chapsoup = bs(chap.content, 'html.parser')\n",
    "    chacont = chapsoup.div.select('.cha-words p')\n",
    "    chatitle = chapsoup.div.select('.cha-tit h3')\n",
    "    tot.append(str(chacont))\n",
    "    titles.append(chatitle[0].get_text())"
   ]
  },
  {
   "cell_type": "code",
   "execution_count": 189,
   "metadata": {},
   "outputs": [],
   "source": [
    "final = dict(zip(titles,tot))"
   ]
  },
  {
   "cell_type": "code",
   "execution_count": 191,
   "metadata": {},
   "outputs": [],
   "source": [
    "exportfile = json.dumps(final)"
   ]
  },
  {
   "cell_type": "code",
   "execution_count": 192,
   "metadata": {},
   "outputs": [
    {
     "name": "stdout",
     "output_type": "stream",
     "text": [
      "{\"Chapter 1: A child bestowed upon\": \"[<p>Yu Corporation.</p>, <p>Overlooking the city and towering into the sky, the skyscraper stood tall in a place where rental prices were equally \\u201csky-high\\u201d\\u2014the financial center of City H.</p>, <p>Lined up neatly in two rows, the employees waited patiently for the arrival of the \\u201cboss.\\u201d</p>, <p>\\u201cVroom\\u2026\\u201d</p>, <p>A luxurious looking sports car buzzed in, parking effortlessly at the entrance of the skyscraper.</p>, <p>The first thing that came into view was a slender-looking pair of legs wrapped within black suit pants. Treading on ground, this pair of legs seemed to have also trod their way into everyone\\u2019s hearts.</p>, <p>When the man\\u2019s perfect facial features were revealed, the people present couldn\\u2019t help but gasp.</p>, <p>Those distinct facial contours were paired with a sharp pair of eyebrows\\u2026</p>, <p>Not forgetting the seemingly unfathomable pair of eyes and the slight smirk of the lips\\u2014was he smiling or was he not?</p>, <p>Wherever his gaze landed, everyone unknowingly lowered their heads. It was an act of inferiority.</p>, <p>\\u201cYoung Master Han\\u2026\\u201d</p>, <p>The two rows of employees greeted in unison.</p>, <p>With a hand tucked in his pocket, his short and pure black hair glistened under the sunlight. Under the attention of everyone, Yu Yuehan collected his gaze and walked up the stairs slowly.</p>, <p>The atmosphere seemed to be solemn, with everything moving systematically until\\u2026</p>, <p>\\u201cDaddi!\\u201d a young, tender voice sliced through the silence.</p>, <p>The next second, a precious looking child emerged from nowhere. Standing behind the crowd, the child whizzed beneath all their legs, took big steps, and ran forward.</p>, <p>With a small frame, she seemed to be only a year old.</p>, <p>Before anyone had the chance to react, the child appeared in front of Yu Yuehan.</p>, <p>\\u201cDaddi\\u2026 Daddi, Daddi\\u2026\\u201d</p>, <p>Just like a curse, that loud, tingling voice rang in the ears of everyone present.</p>, <p><em>Daddy?!</em></p>, <p>Just that simple word sent everyone present into a frenzy.</p>, <p>It was a well-known fact that Yu Yuehan did not lust after women.</p>, <p>So\\u2026 how did he father a child all of a sudden?!</p>, <p>\\u201cLet go!\\u201d Yu Yuehan said in an ice-cold voice between gritted teeth. At the same time, he lowered his gaze to the tender-looking child who was hugging his legs.</p>, <p>Annoyance was evidently detected.</p>, <p>He had never laid his hands on any woman, so having a child was entirely impossible!</p>, <p>The bodyguards around him were clearly awakened by this callous voice. They hurriedly went forward and prepared to carry the child away\\u2026</p>, <p>Just as they extended their hands, they caught a glimpse of something and froze.</p>, <p>With reactions akin to seeing something haunted, their eyes widened. \\u201cHan\\u2026 Young Master Han\\u2026 This child\\u2026\\u201d</p>, <p>\\u201cWah, wah\\u2026\\u201d</p>, <p>The child wailed loudly alongside the exclamations of the bodyguards.</p>, <p>With pouting lips, the child cried miserably. It was as if she knew she was unwanted.</p>, <p>Tears poured uncontrollably from her huge, watery eyes.</p>, <p>At the instant when she looked up, her delicate and tiny face was revealed to the crowd.</p>, <p>The crowd barely controlled themselves from exclaiming out loud. Those facial features were horrifyingly similar to Yu Yuehan\\u2019s!</p>, <p>However, it was not the child\\u2019s facial features that caused the bodyguards to be seized with fear\\u2014it was the piece of paper hanging right in front of the child\\u2026</p>, <p>\\u201cYoung Master Han, a DNA testing report is attached to the child.\\u201d The bodyguard retrieved the report carefully and handed it over to Yu Yuehan.</p>, <p>As Yu Yuehan read the contents of the report thoroughly, his deep and soulful eyes suddenly dilated. He clutched the report tightly.</p>, <p>\\u201cSeal this place and find the mother of the child!\\u201d</p>]\", \"Chapter 2: His Mother\\u2019s Child\": \"[<p>The president\\u2019s office on the top floor.</p>, <p>The contrasting black and white furnishings were simple and elegant.</p>, <p>At this moment, the vast space was engulfed by a smothering atmosphere so oppressing that no one dared to raise their heads.</p>, <p>\\u201cYoung Master Han, we\\u2019ve asked around, and no one saw how this child appeared. We couldn\\u2019t find anything out from the CCTV either\\u2026\\u201d</p>, <p>This child appeared to have turned up from nowhere.</p>, <p>Without a trace.</p>, <p>\\u201cWhat did you say? Couldn\\u2019t find anything out?\\u201d Yu Yuehan\\u2019s voice was so chilling that it made everyone freeze in fear.</p>, <p>He lifted his hand and tossed the DNA report onto the table with a thud before dropping his dark gaze.</p>, <p>Such a young child couldn\\u2019t have turned up here on her own.</p>, <p>\\u201cBy the way, the DNA report has been confirmed to be authentic\\u2026\\u201d the bodyguard braced himself as he spoke.</p>, <p>The little doll was really his daughter\\u2026</p>, <p>In that huge room, the stony silence felt like the calm before a storm.</p>, <p>Only the tiny ball of cuteness was unaware of the perilous atmosphere, her round eyes blinking cluelessly.</p>, <p>She crawled toward Yu Yuehan and looked at him with a longingness to be carried.</p>, <p>Once she caught his eye, she pouted her lips and cooed at him.</p>, <p>\\u201cDaddi\\u2026\\u201d</p>, <p>\\u201c\\u2026\\u201d</p>, <p>Yu Yuehan felt a tightness in his chest, like an indescribable throbbing in his heart that sent a shock through his body.</p>, <p>Looking at the face that looked so much like his own, he shut his eyes, but at the same time, thought about how he had no idea where she had come from.</p>, <p>An overwhelming mix of emotions got the better of him, and he tugged at his necktie in frustration.</p>, <p>Suddenly, a furry little head propped up against his chest, like she was looking for something\\u2026</p>, <p>\\u201cMilk, milk\\u2026\\u201d</p>, <p>His body froze slightly.</p>, <p>The next second, he quickly looked down.</p>, <p>Before he could even react, he saw the tiny doll in his arms opening her little mouth, cheerily leaning forward to take a bite of his chest!</p>, <p>\\u201cOuch!\\u201d</p>, <p>\\u2013</p>, <p>Two years later.</p>, <p>\\u201cDriver, please stop the car in front of the hospital.\\u201d Nian Xiaomu held the cake that she had baked in her hands, got out of the car, and walked toward the registration counter.</p>, <p>\\u201cHi, I\\u2019m looking for Doctor Tan in the Neurology department.\\u201d</p>, <p>\\u201cPlease make way, everyone! Make way!\\u201d A commotion broke out at the entrance of the hospital as a large group of people rushed in toward her direction.</p>, <p>The gory situation was an unbearable sight for everyone in the room.</p>, <p>\\u201cWhat happened?\\u201d</p>, <p>\\u201cThere was a traffic accident along the front street. A few victims have been sent to the emergency department in our hospital for treatment, and the most seriously injured one is a child\\u2026\\u201d said the first doctor to get out the ambulance as he worriedly informed his colleagues.</p>, <p>Upon hearing that, Nian Xiaomu\\u2019s gaze fell upon the medical gurney in front of her.</p>, <p>A child around the age of three laid quietly on it.</p>, <p>A white princess gown stained crimson with blood, a delicate face that was as pale as a sheet of paper, and the tiny body that was curled into a ball\\u2026</p>, <p>She had only caught a glimpse of this, but Nian Xiaomu felt an inexplicable wrenching in her heart!</p>, <p>\\u201cThis child has Type B blood, but our hospital has run out of Type B blood in our storage bank. There isn\\u2019t time to transport blood from another hospital! Is there anyone here who can donate blood?\\u201d Someone rushed in from the other end of the room, his face flushed with a sense of great urgency.</p>, <p>\\u201cIt\\u2019s too sudden! Where can we find someone to donate blood at this time?\\u201d</p>, <p>\\u201cWhat can we do? We have no time to lose\\u2026\\u201d</p>, <p>Nian Xiaomu stood rooted to the ground, her mind filled with the image of that little face that she had just seen. When she heard the doctor\\u2019s words, she instinctively rushed forward.</p>, <p>\\u201cMy blood type is B. I can donate to her!\\u201d</p>]\"}\n"
     ]
    }
   ],
   "source": [
    "print(exportfile)"
   ]
  },
  {
   "cell_type": "code",
   "execution_count": null,
   "metadata": {},
   "outputs": [],
   "source": []
  }
 ],
 "metadata": {
  "kernelspec": {
   "display_name": "Python 3",
   "language": "python",
   "name": "python3"
  },
  "language_info": {
   "codemirror_mode": {
    "name": "ipython",
    "version": 3
   },
   "file_extension": ".py",
   "mimetype": "text/x-python",
   "name": "python",
   "nbconvert_exporter": "python",
   "pygments_lexer": "ipython3",
   "version": "3.7.3"
  }
 },
 "nbformat": 4,
 "nbformat_minor": 2
}
