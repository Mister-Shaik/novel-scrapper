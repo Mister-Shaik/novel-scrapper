{
 "cells": [
  {
   "cell_type": "code",
   "execution_count": 129,
   "metadata": {},
   "outputs": [],
   "source": [
    "from bs4 import BeautifulSoup as bs, SoupStrainer\n",
    "import requests\n",
    "import sys\n",
    "import json\n",
    "import os"
   ]
  },
  {
   "cell_type": "code",
   "execution_count": 130,
   "metadata": {},
   "outputs": [],
   "source": [
    "page = requests.get('https://boxnovel.com/novel/the-martial-emperor-with-dragon-blood/')\n",
    "soup = bs(page.content, 'html.parser')"
   ]
  },
  {
   "cell_type": "code",
   "execution_count": 131,
   "metadata": {},
   "outputs": [],
   "source": [
    "lastc = []\n",
    "if (os.path.exists('novels/the-martial-emperor-with-dragon-blood.json')):\n",
    "    with open('novels/the-martial-emperor-with-dragon-blood.json', 'r', encoding='utf-8') as f:\n",
    "        chap_dict = json.load(f)\n",
    "    for distro in chap_dict:\n",
    "        lastc.append(distro)"
   ]
  },
  {
   "cell_type": "code",
   "execution_count": 132,
   "metadata": {},
   "outputs": [],
   "source": [
    "ulit = soup.find_all('li', class_='wp-manga-chapter')\n",
    "arr = []"
   ]
  },
  {
   "cell_type": "code",
   "execution_count": 133,
   "metadata": {},
   "outputs": [],
   "source": [
    "for x in ulit:\n",
    "    arr.extend([y.get_attribute_list('href') for y in x.find_all('a')][0])"
   ]
  },
  {
   "cell_type": "code",
   "execution_count": 134,
   "metadata": {},
   "outputs": [],
   "source": [
    "arr.reverse()\n",
    "toupdate = []\n",
    "for x in arr:\n",
    "    toupdate.extend([int(s) for s in x.split('-') if s.isdigit()])"
   ]
  },
  {
   "cell_type": "code",
   "execution_count": 135,
   "metadata": {},
   "outputs": [
    {
     "name": "stdout",
     "output_type": "stream",
     "text": [
      "Chapter 1: Five Year Struggle\n",
      "Chapter 2: Budding powers\n",
      "Chapter 3: The Rising Dragon Pillar\n",
      "Chapter 4: Opening Gates With Dragons\n",
      "Chapter 5: Greet and Beat\n",
      "Chapter 6: Extracting And Purifying Yuanli\n",
      "Chapter 7: Xiao Cao\n",
      "Chapter 8: The Power in His Blood\n",
      "Chapter 9: The Hundred Treasure Pavillion\n",
      "Chapter 10: The Third Dragon Energy\n",
      "Chapter 11: Xiao Yue\n",
      "Chapter 12: Limestone Champion List\n",
      "Chapter 13: Stealing His Master’s Technique\n",
      "Chapter 14: Heaven-Piercing Thrust\n",
      "Chapter 15: Flying Daggers? Don’t Even Think About It\n"
     ]
    }
   ],
   "source": [
    "tot = []\n",
    "titles = []\n",
    "for c in arr:\n",
    "    chap = requests.get(c)\n",
    "    chapsoup = bs(chap.content, 'html.parser')\n",
    "    chacont = chapsoup.div.select('.cha-words p')\n",
    "    chatitle = chapsoup.div.select('.cha-tit h3')\n",
    "    if chatitle[0].get_text() in lastc:\n",
    "        continue\n",
    "    tot.append(' '.join([str(i) for i in chacont]))\n",
    "    titles.append(chatitle[0].get_text())\n",
    "    print(chatitle[0].get_text())"
   ]
  },
  {
   "cell_type": "code",
   "execution_count": 136,
   "metadata": {},
   "outputs": [],
   "source": [
    "final = dict(zip(titles,tot))\n",
    "final.update(chap_dict)"
   ]
  },
  {
   "cell_type": "code",
   "execution_count": 138,
   "metadata": {},
   "outputs": [],
   "source": [
    "with open('novels/the-martial-emperor-with-dragon-blood.json', 'w+', encoding='utf-8') as fp:\n",
    "    json.dump(final, fp, indent=2, ensure_ascii=False)"
   ]
  }
 ],
 "metadata": {
  "kernelspec": {
   "display_name": "Python 3",
   "language": "python",
   "name": "python3"
  },
  "language_info": {
   "codemirror_mode": {
    "name": "ipython",
    "version": 3
   },
   "file_extension": ".py",
   "mimetype": "text/x-python",
   "name": "python",
   "nbconvert_exporter": "python",
   "pygments_lexer": "ipython3",
   "version": "3.7.3"
  }
 },
 "nbformat": 4,
 "nbformat_minor": 2
}
